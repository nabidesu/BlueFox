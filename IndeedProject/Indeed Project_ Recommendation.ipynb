{
 "cells": [
  {
   "cell_type": "code",
   "execution_count": 1,
   "id": "10f647e4-a3b5-482c-b2fb-69b331bc87b6",
   "metadata": {},
   "outputs": [],
   "source": [
    "import pandas as pd\n",
    "from rapidfuzz import process, fuzz"
   ]
  },
  {
   "cell_type": "code",
   "execution_count": 2,
   "id": "68218474-298a-43ab-a584-5b2ccef7a908",
   "metadata": {},
   "outputs": [],
   "source": [
    "df = pd.read_csv('NYC Fresh Jobs Postings.csv')"
   ]
  },
  {
   "cell_type": "code",
   "execution_count": 3,
   "id": "a1766dea-4f8a-485b-8ea6-d239984bd3cb",
   "metadata": {},
   "outputs": [],
   "source": [
    "# Keep only relevant columns\n",
    "df_new = df[['Agency', 'Business Title', 'Job Description', \n",
    "             'Salary Range From', 'Salary Range To', \n",
    "             'Work Location', 'Preferred Skills']].copy()\n"
   ]
  },
  {
   "cell_type": "code",
   "execution_count": 4,
   "id": "75c94734-2e9b-401b-b06f-21c26119398e",
   "metadata": {},
   "outputs": [
    {
     "name": "stderr",
     "output_type": "stream",
     "text": [
      "C:\\Users\\Nitro\\AppData\\Local\\Temp\\ipykernel_12852\\3203077750.py:3: FutureWarning: DataFrame.applymap has been deprecated. Use DataFrame.map instead.\n",
      "  df_new = df_new.applymap(lambda x: x.lower() if isinstance(x, str) else x)\n"
     ]
    }
   ],
   "source": [
    "# Preprocess: fill NaNs and lowercase everything for better matching\n",
    "df_new.fillna('', inplace=True)\n",
    "df_new = df_new.applymap(lambda x: x.lower() if isinstance(x, str) else x)"
   ]
  },
  {
   "cell_type": "code",
   "execution_count": 5,
   "id": "38a6c0b0-f624-4a32-8b2b-9e2a9beba74c",
   "metadata": {},
   "outputs": [],
   "source": [
    "# Create a combined corpus with a mapping back to the index\n",
    "corpus_map = []\n",
    "for idx, row in df_new.iterrows():\n",
    "    for field in ['Agency', 'Business Title', 'Job Description']:\n",
    "        corpus_map.append((row[field], idx))\n",
    "\n",
    "corpus_texts = [text for text, _ in corpus_map]\n"
   ]
  },
  {
   "cell_type": "code",
   "execution_count": 6,
   "id": "7a31f12e-63fc-4b9a-8fd1-b0fb90d63cd3",
   "metadata": {},
   "outputs": [],
   "source": [
    "# Matching function using RapidFuzz\n",
    "def get_recommendation(search, df, limit=10):\n",
    "    search = search.lower().strip()\n",
    "    matches = process.extract(search, corpus_texts, scorer=fuzz.token_set_ratio, limit=limit)\n",
    "\n",
    "    seen_indices = set()\n",
    "    recommendations = []\n",
    "\n",
    "    for match_text, score, match_index in matches:\n",
    "        idx = corpus_map[match_index][1]\n",
    "        if idx not in seen_indices:\n",
    "            seen_indices.add(idx)\n",
    "            recommendations.append((\n",
    "                df.at[idx, 'Business Title'].title(),\n",
    "                df.at[idx, 'Agency'].title(),\n",
    "                df.at[idx, 'Salary Range From'],\n",
    "                df.at[idx, 'Salary Range To'],\n",
    "                df.at[idx, 'Work Location'].title(),\n",
    "                df.at[idx, 'Preferred Skills']\n",
    "            ))\n",
    "    return recommendations"
   ]
  },
  {
   "cell_type": "code",
   "execution_count": 8,
   "id": "f1a764ad-fbcb-4581-a987-660724d1aff3",
   "metadata": {},
   "outputs": [
    {
     "name": "stdin",
     "output_type": "stream",
     "text": [
      "Enter the keyword for job search:  Data Analytics\n"
     ]
    },
    {
     "name": "stdout",
     "output_type": "stream",
     "text": [
      "\n",
      "Recommendations:\n",
      "(Business Title, Agency, Salary From, Salary To, Work Location, Preferred Skills)\n",
      "('Business Analyst', 'Nyc Housing Authority', 56013.0, 84862.0, 'Perf Tracking And Analytics', '1.\\tdata management skills including constructing datasets for specific analyses and cleaning, aggregating and matching large data sets. 2.\\tminimum 2 years of experience with standard query language (sql) and data models. 3.\\tability to compile data by querying databases and joining tables from various sources.  4.\\texperience developing analytic plans and conducting statistical analyses. 5.\\tstrong knowledge of data visualization tools such as microsoft power bi. 6.\\tproficiency in microsoft office:  excel, outlook, powerpoint, word, microsoft teams. 7.\\thighly organized with the ability to work under stringent deadlines, manage multiple assignments and handle sensitive information. 8.\\tmust have experience working with cross-functional teams for project delivery.')\n",
      "('Executive Director, Office Of Civil Justice', 'Hra/Dept Of Social Services', 102292.0, 149310.0, '4 World Trade Center', 'â\\x80¢\\tadvanced proficiency and knowledge of various systems such as automated procurement tracking (apt), hhs accelerator, financial management systems (fms), passport, cares, microsoft excel, word, outlook, and powerpoint  â\\x80¢\\twillingness to perform the full range of tasks required in a dynamic and rapidly responsive organization.  â\\x80¢\\tability to think creatively and develop solutions.')\n",
      "('Assistant Commissioner, Bureau Of Healthcare & Community Readiness', 'Dept Of Health/Mental Hygiene', 80931.0, 177000.0, '42-09 28Th Street', '- a minimum of 5 years of work experience in public health and/or healthcare emergency preparedness and response, or related experience, preferably in a hospital environment and/or leadership capacity.  - clinical experience, nursing, or medical degree, is desirable but not required.   - a minimum of 7 years of supervisory experience, including the ability to the ability to delegate effectively.  - exceptional organizational, time & project management, problem-solving, and decision-making skills.   - exceptional communication skills (both written and verbal) including the ability to work with individuals at various levels, including executives.')\n",
      "('Assistant Commissioner, Operations Research', 'Department Of Correction', 150000.0, 165000.0, 'Hazen St-A.M.K.C., E. Elm, Ny', 'advanced degree (phd preferred) in operations research, industrial engineering, statistics, management science, data science, urban infomatics, or a closely related field that includes a significant amount of research methods and statistical analysis. expert knowledge of and track record in relevant operations research/industrial engineering practice and implementation. experience managing a team with capabilities in resource allocation modelling/ scheduling, systems/operations analysis, simulation and optimization. proven track record conducting and managing high-level quantitative research projects with large, complicated organizations and disparate data sources. expertise in ieor/statistical modelling techniques including simulation, optimization, predictive/prescriptive analytics, machine learning, etc. peer review publication history and ability to write in plain language as well and seamlessly as in technical language. excellent communicator, collaborator and team player.')\n",
      "('Senior Project Controls Specialist', 'Dept Of Design & Construction', 75000.0, 128750.0, '30-30 Thomson Ave L I City Qns', 'strong analytical skills; background in computer science, mathematics and/or statistics desirable;  experience with machine learning algorithms and statistical modeling; experience with programming languages such as python, r, and sql; experience with azure services; experience with  data management technology architecture; strong communication skills to explain complex findings to non-technical stakeholders; experience in managing projects; knowledge of public sector and construction is desirable; experience in managing resources and complex assignments is preferred.')\n",
      "('Performance Management Analyst', 'Nyc Housing Authority', 61206.0, 92731.0, 'Svp For Performance Mgt & Anly', '1.\\tmasterâ\\x80\\x99s degree in public policy, urban planning, sociology, demography, political science, economics, data science or related field. 2.\\tproficiency with bi software (preferably microsoft power bi) and big data tools (e.g., sql, r, python, etc.). 3.\\tability to work independently and in a team environment to compile datasets, analyze data, provide written interpretations of statistical analyses and to present findings in written reports and oral presentations. 4.\\tdata management skills including cleaning, aggregating, and matching large data sets for specific analyses. 5.\\texperience developing analytic plans and conducting statistical analyses. 6.\\tability to work under stringent deadlines, manage multiple assignments, and handle sensitive information. 7.\\texcellent verbal and written communication skills, including the ability to interface well with senior authority management and external partners. 8.\\tattention to detail in the presentation of reports, data visualizations, and data sets for distribution. 9.\\tproficiency in microsoft office - excel, outlook, powerpoint, and word.')\n",
      "('Executive Director, Office Of Civil Justice', 'Hra/Dept Of Social Services', 102292.0, 149310.0, '4 World Trade Center', 'â\\x80¢\\tadvanced proficiency and knowledge of various systems such as automated procurement tracking (apt), hhs accelerator, financial management systems (fms), passport, cares, microsoft excel, word, outlook, and powerpoint  â\\x80¢\\twillingness to perform the full range of tasks required in a dynamic and rapidly responsive organization.  â\\x80¢\\tability to think creatively and develop solutions.')\n",
      "('Program Lead, Freight Planning And Policy', 'Department Of Transportation', 80091.0, 116999.0, '55 Water St Ny Ny', 'knowledge of and experience in transportation policy, transportation planning, transportation operations and management or transportation technology; the ability to think and act strategically; experience analyzing, interpreting, and communicating transportation performance issues; budget management, strong data analysis, report writing, and experience using ms office suite, arcgis, adobe suite. a valid driverâ\\x80\\x99s license is a plus.')\n",
      "('Director, Data Analytic, Reporting & Triage (Dart)', 'Hra/Dept Of Social Services', 94715.0, 110000.0, '375 Pearl Street', 'â\\x80¢\\textensive experience supporting hra programs including medicaid, hpa, fia/snap, accountability, and fair fares.  â\\x80¢\\textensive experience working with hra and nys data systems including edw, mdw, wms, sfars, cognos, iris, and oneviewer. â\\x80¢\\textensive experience with bid date and tools such as excel, sql, arcgis, r, and python â\\x80¢\\texperience with commercial data systems such as accurint, talx, usps address forwarding is a plus â\\x80¢\\tbackground in project management or fraud investigations is a plus')\n",
      "('System Data Associate', 'Hra/Dept Of Social Services', 71707.0, 82463.0, '375 Pearl Street', 'â\\x80¢\\tproficiency in structured query language (sql) queries and stored procedures on various relational databases including oracle and sql server  â\\x80¢\\texperience in business intelligence and analytical tools (e.g., obiee), to deliver advanced analytical business reporting solutions  â\\x80¢\\texperience in .net programming and web application design  â\\x80¢\\texperience in sharepoint design  â\\x80¢\\texperience in sql server reporting service (ssrs) and sql server integration service (ssis)  â\\x80¢\\texperience in microsoft access and visual basic for applications (vba)')\n"
     ]
    }
   ],
   "source": [
    "# Get user input and show results\n",
    "search = input(\"Enter the keyword for job search: \")\n",
    "recommendations = get_recommendation(search, df_new)\n",
    "\n",
    "print(\"\\nRecommendations:\")\n",
    "print(\"(Business Title, Agency, Salary From, Salary To, Work Location, Preferred Skills)\")\n",
    "for rec in recommendations:\n",
    "    print(rec)"
   ]
  },
  {
   "cell_type": "code",
   "execution_count": null,
   "id": "f1728339-ee55-42e0-9efb-de97a2d73f5c",
   "metadata": {},
   "outputs": [],
   "source": []
  }
 ],
 "metadata": {
  "kernelspec": {
   "display_name": "Python 3 (ipykernel)",
   "language": "python",
   "name": "python3"
  },
  "language_info": {
   "codemirror_mode": {
    "name": "ipython",
    "version": 3
   },
   "file_extension": ".py",
   "mimetype": "text/x-python",
   "name": "python",
   "nbconvert_exporter": "python",
   "pygments_lexer": "ipython3",
   "version": "3.12.7"
  }
 },
 "nbformat": 4,
 "nbformat_minor": 5
}
