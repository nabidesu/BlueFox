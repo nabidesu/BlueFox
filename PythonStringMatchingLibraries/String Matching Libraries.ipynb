{
 "cells": [
  {
   "cell_type": "code",
   "execution_count": 2,
   "id": "990ed1f7-cd3f-41c4-aced-87e42ff0280c",
   "metadata": {},
   "outputs": [
    {
     "name": "stdout",
     "output_type": "stream",
     "text": [
      "Collecting fuzzywuzzy\n",
      "  Using cached fuzzywuzzy-0.18.0-py2.py3-none-any.whl.metadata (4.9 kB)\n",
      "Collecting python-Levenshtein\n",
      "  Downloading python_levenshtein-0.27.1-py3-none-any.whl.metadata (3.7 kB)\n",
      "Requirement already satisfied: textdistance in d:\\anacondaa\\lib\\site-packages (4.2.1)\n",
      "Collecting Levenshtein==0.27.1 (from python-Levenshtein)\n",
      "  Downloading levenshtein-0.27.1-cp312-cp312-win_amd64.whl.metadata (3.6 kB)\n",
      "Requirement already satisfied: rapidfuzz<4.0.0,>=3.9.0 in d:\\anacondaa\\lib\\site-packages (from Levenshtein==0.27.1->python-Levenshtein) (3.12.2)\n",
      "Using cached fuzzywuzzy-0.18.0-py2.py3-none-any.whl (18 kB)\n",
      "Downloading python_levenshtein-0.27.1-py3-none-any.whl (9.4 kB)\n",
      "Downloading levenshtein-0.27.1-cp312-cp312-win_amd64.whl (100 kB)\n",
      "Installing collected packages: fuzzywuzzy, Levenshtein, python-Levenshtein\n",
      "Successfully installed Levenshtein-0.27.1 fuzzywuzzy-0.18.0 python-Levenshtein-0.27.1\n",
      "Note: you may need to restart the kernel to use updated packages.\n"
     ]
    },
    {
     "name": "stderr",
     "output_type": "stream",
     "text": [
      "WARNING: Ignoring invalid distribution ~ransformers (D:\\anacondaa\\Lib\\site-packages)\n",
      "WARNING: Ignoring invalid distribution ~ransformers (D:\\anacondaa\\Lib\\site-packages)\n",
      "WARNING: Ignoring invalid distribution ~ransformers (D:\\anacondaa\\Lib\\site-packages)\n"
     ]
    }
   ],
   "source": [
    "pip install fuzzywuzzy python-Levenshtein textdistance\n"
   ]
  },
  {
   "cell_type": "code",
   "execution_count": 3,
   "id": "9ad68b36-6657-438f-abf8-9bc69632a076",
   "metadata": {},
   "outputs": [],
   "source": [
    "import pandas as pd\n",
    "from fuzzywuzzy import fuzz, process\n",
    "from difflib import SequenceMatcher\n",
    "import textdistance"
   ]
  },
  {
   "cell_type": "code",
   "execution_count": 4,
   "id": "3e8f62a5-e1ab-41d0-bbdb-ab02e858bf96",
   "metadata": {},
   "outputs": [],
   "source": [
    "data = {\n",
    "    \"Agency\": [\"Dept of Health\", \"Information Tech\", \"City Planning\", \"Finance Dept\", \"Environmental Dept\"],\n",
    "    \"Business Title\": [\"Data Analyst\", \"Software Engineer\", \"Urban Data Specialist\", \"Budget Analyst\", \"Climate Data Scientist\"],\n",
    "    \"Job Description\": [\n",
    "        \"Analyze public health data and create dashboards.\",\n",
    "        \"Develop and maintain city-wide applications.\",\n",
    "        \"Work with urban data to help city development.\",\n",
    "        \"Analyze budget reports and assist in forecasting.\",\n",
    "        \"Study climate trends and produce reports.\"\n",
    "    ]\n",
    "}\n"
   ]
  },
  {
   "cell_type": "code",
   "execution_count": 5,
   "id": "bb83946a-a3da-4a79-9630-0b8990047ab5",
   "metadata": {},
   "outputs": [],
   "source": [
    "df = pd.DataFrame(data)"
   ]
  },
  {
   "cell_type": "code",
   "execution_count": 6,
   "id": "b5da7ca5-9760-46bd-93bb-0ab16ee6320f",
   "metadata": {},
   "outputs": [
    {
     "data": {
      "text/html": [
       "<div>\n",
       "<style scoped>\n",
       "    .dataframe tbody tr th:only-of-type {\n",
       "        vertical-align: middle;\n",
       "    }\n",
       "\n",
       "    .dataframe tbody tr th {\n",
       "        vertical-align: top;\n",
       "    }\n",
       "\n",
       "    .dataframe thead th {\n",
       "        text-align: right;\n",
       "    }\n",
       "</style>\n",
       "<table border=\"1\" class=\"dataframe\">\n",
       "  <thead>\n",
       "    <tr style=\"text-align: right;\">\n",
       "      <th></th>\n",
       "      <th>Agency</th>\n",
       "      <th>Business Title</th>\n",
       "      <th>Job Description</th>\n",
       "    </tr>\n",
       "  </thead>\n",
       "  <tbody>\n",
       "    <tr>\n",
       "      <th>0</th>\n",
       "      <td>Dept of Health</td>\n",
       "      <td>Data Analyst</td>\n",
       "      <td>Analyze public health data and create dashboards.</td>\n",
       "    </tr>\n",
       "    <tr>\n",
       "      <th>1</th>\n",
       "      <td>Information Tech</td>\n",
       "      <td>Software Engineer</td>\n",
       "      <td>Develop and maintain city-wide applications.</td>\n",
       "    </tr>\n",
       "    <tr>\n",
       "      <th>2</th>\n",
       "      <td>City Planning</td>\n",
       "      <td>Urban Data Specialist</td>\n",
       "      <td>Work with urban data to help city development.</td>\n",
       "    </tr>\n",
       "    <tr>\n",
       "      <th>3</th>\n",
       "      <td>Finance Dept</td>\n",
       "      <td>Budget Analyst</td>\n",
       "      <td>Analyze budget reports and assist in forecasting.</td>\n",
       "    </tr>\n",
       "    <tr>\n",
       "      <th>4</th>\n",
       "      <td>Environmental Dept</td>\n",
       "      <td>Climate Data Scientist</td>\n",
       "      <td>Study climate trends and produce reports.</td>\n",
       "    </tr>\n",
       "  </tbody>\n",
       "</table>\n",
       "</div>"
      ],
      "text/plain": [
       "               Agency          Business Title  \\\n",
       "0      Dept of Health            Data Analyst   \n",
       "1    Information Tech       Software Engineer   \n",
       "2       City Planning   Urban Data Specialist   \n",
       "3        Finance Dept          Budget Analyst   \n",
       "4  Environmental Dept  Climate Data Scientist   \n",
       "\n",
       "                                     Job Description  \n",
       "0  Analyze public health data and create dashboards.  \n",
       "1       Develop and maintain city-wide applications.  \n",
       "2     Work with urban data to help city development.  \n",
       "3  Analyze budget reports and assist in forecasting.  \n",
       "4          Study climate trends and produce reports.  "
      ]
     },
     "execution_count": 6,
     "metadata": {},
     "output_type": "execute_result"
    }
   ],
   "source": [
    "df.head()"
   ]
  },
  {
   "cell_type": "code",
   "execution_count": 7,
   "id": "ebf7abcd-23fc-42ea-baa0-97e69c636c73",
   "metadata": {},
   "outputs": [],
   "source": [
    "# Create a combined corpus for matching\n",
    "corpus = df['Agency'].tolist() + df['Business Title'].tolist() + df['Job Description'].tolist()\n"
   ]
  },
  {
   "cell_type": "code",
   "execution_count": 8,
   "id": "02fb8941-562b-49c4-9592-2cb691dff544",
   "metadata": {},
   "outputs": [],
   "source": [
    "# Search input\n",
    "search_term = \"data analysis specialist\""
   ]
  },
  {
   "cell_type": "code",
   "execution_count": 9,
   "id": "f87d653e-00f1-4854-9d5a-eb262a582559",
   "metadata": {},
   "outputs": [],
   "source": [
    "def match_fuzzywuzzy(search, corpus, limit=3):\n",
    "    return process.extract(search, corpus, scorer=fuzz.token_set_ratio, limit=limit)\n",
    "\n",
    "def match_difflib(search, corpus, limit=3):\n",
    "    scores = [(text, SequenceMatcher(None, search, text).ratio()) for text in corpus]\n",
    "    return sorted(scores, key=lambda x: x[1], reverse=True)[:limit]\n",
    "\n",
    "def match_textdistance(search, corpus, similarity_func, limit=3):\n",
    "    scores = [(text, similarity_func.normalized_similarity(search, text)) for text in corpus]\n",
    "    return sorted(scores, key=lambda x: x[1], reverse=True)[:limit]"
   ]
  },
  {
   "cell_type": "code",
   "execution_count": 10,
   "id": "e3ce02f0-04ef-47a1-be0b-40240dca30e3",
   "metadata": {},
   "outputs": [],
   "source": [
    "# Run experiments\n",
    "results = {\n",
    "    \"FuzzyWuzzy\": match_fuzzywuzzy(search_term, corpus),\n",
    "    \"difflib\": match_difflib(search_term, corpus),\n",
    "    \"TextDistance (Jaccard)\": match_textdistance(search_term, corpus, textdistance.jaccard),\n",
    "    \"TextDistance (Cosine)\": match_textdistance(search_term, corpus, textdistance.cosine),\n",
    "}"
   ]
  },
  {
   "cell_type": "code",
   "execution_count": 11,
   "id": "25656b18-7513-4718-9f04-8ee5f138a44d",
   "metadata": {},
   "outputs": [
    {
     "name": "stdout",
     "output_type": "stream",
     "text": [
      "\n",
      "--- FuzzyWuzzy ---\n",
      "('Urban Data Specialist', 83)\n",
      "('Data Analyst', 67)\n",
      "('Climate Data Scientist', 61)\n",
      "\n",
      "--- difflib ---\n",
      "('Urban Data Specialist', 0.5777777777777777)\n",
      "('Data Analyst', 0.5555555555555556)\n",
      "('Budget Analyst', 0.47368421052631576)\n",
      "\n",
      "--- TextDistance (Jaccard) ---\n",
      "('Urban Data Specialist', 0.5517241379310345)\n",
      "('Climate Data Scientist', 0.4838709677419355)\n",
      "('Develop and maintain city-wide applications.', 0.44680851063829785)\n",
      "\n",
      "--- TextDistance (Cosine) ---\n",
      "('Urban Data Specialist', 0.7126966450997984)\n",
      "('Climate Data Scientist', 0.6527912098338668)\n",
      "('Develop and maintain city-wide applications.', 0.6462303276414968)\n"
     ]
    }
   ],
   "source": [
    "# Display results\n",
    "for method, matches in results.items():\n",
    "    print(f\"\\n--- {method} ---\")\n",
    "    for match in matches:\n",
    "        print(match)"
   ]
  },
  {
   "cell_type": "code",
   "execution_count": 12,
   "id": "e9f74b8f-b10d-429f-988f-554f89301da6",
   "metadata": {},
   "outputs": [],
   "source": [
    "import pandas as pd\n",
    "from rapidfuzz import process, fuzz"
   ]
  },
  {
   "cell_type": "code",
   "execution_count": null,
   "id": "a7bfc73d-21e6-4c20-9691-9043baf9349a",
   "metadata": {},
   "outputs": [],
   "source": []
  }
 ],
 "metadata": {
  "kernelspec": {
   "display_name": "Python 3 (ipykernel)",
   "language": "python",
   "name": "python3"
  },
  "language_info": {
   "codemirror_mode": {
    "name": "ipython",
    "version": 3
   },
   "file_extension": ".py",
   "mimetype": "text/x-python",
   "name": "python",
   "nbconvert_exporter": "python",
   "pygments_lexer": "ipython3",
   "version": "3.12.7"
  }
 },
 "nbformat": 4,
 "nbformat_minor": 5
}
