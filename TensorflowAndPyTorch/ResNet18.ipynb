{
  "nbformat": 4,
  "nbformat_minor": 0,
  "metadata": {
    "colab": {
      "provenance": [],
      "gpuType": "T4"
    },
    "kernelspec": {
      "name": "python3",
      "display_name": "Python 3"
    },
    "language_info": {
      "name": "python"
    },
    "accelerator": "GPU"
  },
  "cells": [
    {
      "cell_type": "code",
      "execution_count": 14,
      "metadata": {
        "id": "TNeS3U7zVVZX"
      },
      "outputs": [],
      "source": [
        "import os\n",
        "from google.colab import drive\n",
        "import zipfile\n",
        "import torch\n",
        "import torchvision\n",
        "import torch.nn as nn\n",
        "from torchvision import datasets, transforms, models\n",
        "from torch.utils.data import DataLoader\n",
        "import torch.optim as optim\n",
        "import time\n",
        "import matplotlib.pyplot as plt\n",
        "\n"
      ]
    },
    {
      "cell_type": "code",
      "source": [
        "drive.mount('/content/drive')"
      ],
      "metadata": {
        "colab": {
          "base_uri": "https://localhost:8080/"
        },
        "id": "NZBLK8XGVp6s",
        "outputId": "8a42fa4c-c2d6-46d0-d5d3-713a2b98db63"
      },
      "execution_count": 2,
      "outputs": [
        {
          "output_type": "stream",
          "name": "stdout",
          "text": [
            "Mounted at /content/drive\n"
          ]
        }
      ]
    },
    {
      "cell_type": "code",
      "source": [
        "zip_path = \"/content/drive/MyDrive/Cat_dog_images.zip\""
      ],
      "metadata": {
        "id": "vIZ8SjF3VqNw"
      },
      "execution_count": 3,
      "outputs": []
    },
    {
      "cell_type": "code",
      "source": [
        "with zipfile.ZipFile(zip_path,'r') as zip_ref:\n",
        "  zip_ref.extractall('/content/data')"
      ],
      "metadata": {
        "id": "Bt8j-MEOVqQI"
      },
      "execution_count": 4,
      "outputs": []
    },
    {
      "cell_type": "code",
      "source": [
        "data_dir= '/content/data/Cat_dog_images'\n"
      ],
      "metadata": {
        "id": "iDxBP1ODVqSa"
      },
      "execution_count": 5,
      "outputs": []
    },
    {
      "cell_type": "code",
      "source": [
        "IMG_SIZE =224"
      ],
      "metadata": {
        "id": "enfDMyDJVqU0"
      },
      "execution_count": 6,
      "outputs": []
    },
    {
      "cell_type": "code",
      "source": [
        "cpu_count = os.cpu_count()\n",
        "print(cpu_count)"
      ],
      "metadata": {
        "colab": {
          "base_uri": "https://localhost:8080/"
        },
        "id": "sIYSmmGDX5Rl",
        "outputId": "2a8b2791-57fd-4ef3-f120-05e3b00f966f"
      },
      "execution_count": 7,
      "outputs": [
        {
          "output_type": "stream",
          "name": "stdout",
          "text": [
            "2\n"
          ]
        }
      ]
    },
    {
      "cell_type": "code",
      "source": [
        "from torch.utils.data import random_split\n",
        "# from multiprocessing import cpu_count\n",
        "\n",
        "def get_data_loaders(data_dir, input_size=IMG_SIZE, batch_size=32, val_split=0.2):\n",
        "\n",
        "    transform = transforms.Compose([\n",
        "        transforms.Resize((input_size, input_size)),\n",
        "        transforms.ToTensor(),\n",
        "        transforms.Normalize([0.485, 0.456, 0.406],\n",
        "                             [0.229, 0.224, 0.225])\n",
        "    ])\n",
        "\n",
        "    dataset = datasets.ImageFolder(data_dir, transform=transform) # dataset is torch.utils.data.Dataset object\n",
        "    print(\"Dataset classes names:\", dataset.classes)\n",
        "    print(\"Classes and it's mapped index:\", dataset.class_to_idx)\n",
        "    print(\"\")\n",
        "\n",
        "    dataset_size = len(dataset)\n",
        "    print(\"Total number of images in the dataset:\", dataset_size)\n",
        "    print(\"\")\n",
        "\n",
        "    val_size = int(val_split * dataset_size)\n",
        "    train_size = dataset_size - val_size\n",
        "\n",
        "    train_dataset, val_dataset = random_split(dataset, [train_size, val_size]) # both are still PyTorch dataset object\n",
        "    print(\"Train dataset size:\", len(train_dataset))\n",
        "    print(\"Validation dataset size:\", len(val_dataset))\n",
        "    print(\"\")\n",
        "\n",
        "    # The DataLoader is what actually feeds data into the model in batches during training.\n",
        "    train_loader = DataLoader(train_dataset, batch_size=batch_size, shuffle=True, num_workers=cpu_count)\n",
        "    val_loader = DataLoader(val_dataset, batch_size=batch_size, shuffle=False, num_workers=cpu_count)\n",
        "\n",
        "    print(\"Datatype of train_loader:\", type(train_loader))\n",
        "    inputs, labels = next(iter(train_loader))\n",
        "    print(inputs.shape)\n",
        "    print(labels.shape)\n",
        "\n",
        "    dataloaders = {'train': train_loader, 'val': val_loader}\n",
        "    dataset_sizes = {'train': train_size, 'val': val_size}\n",
        "    class_names = dataset.classes\n",
        "\n",
        "    return dataloaders, dataset_sizes, class_names"
      ],
      "metadata": {
        "id": "bYnDRyQlVqXT"
      },
      "execution_count": 8,
      "outputs": []
    },
    {
      "cell_type": "code",
      "source": [
        "dataloaders, dataset_sizes, class_names = get_data_loaders(data_dir)"
      ],
      "metadata": {
        "colab": {
          "base_uri": "https://localhost:8080/"
        },
        "id": "p6mBVxa5VqZl",
        "outputId": "933c591f-6830-4e8b-d226-701ed2898e8c"
      },
      "execution_count": 9,
      "outputs": [
        {
          "output_type": "stream",
          "name": "stdout",
          "text": [
            "Dataset classes names: ['cats', 'dogs']\n",
            "Classes and it's mapped index: {'cats': 0, 'dogs': 1}\n",
            "\n",
            "Total number of images in the dataset: 210\n",
            "\n",
            "Train dataset size: 168\n",
            "Validation dataset size: 42\n",
            "\n",
            "Datatype of train_loader: <class 'torch.utils.data.dataloader.DataLoader'>\n",
            "torch.Size([32, 3, 224, 224])\n",
            "torch.Size([32])\n"
          ]
        }
      ]
    },
    {
      "cell_type": "code",
      "source": [
        "def train_model(model, dataloaders, dataset_sizes, device, classification_type, num_epochs=10, lr=0.001):\n",
        "    if classification_type == 1:\n",
        "        criterion = nn.BCEWithLogitsLoss()\n",
        "    else:\n",
        "      criterion = nn.CrossEntropyLoss()\n",
        "\n",
        "    optimizer = optim.Adam(model.parameters(), lr=lr)\n",
        "\n",
        "    model = model.to(device)\n",
        "       # Lists to store accuracies\n",
        "    train_acc_history = []\n",
        "    val_acc_history = []\n",
        "\n",
        "\n",
        "    for epoch in range(num_epochs):\n",
        "        #Each epoch is one full pass over the dataset.\n",
        "        print(f\"Epoch {epoch+1}/{num_epochs}\")\n",
        "        print(\"-\" * 20)\n",
        "\n",
        "        for phase in ['train', 'val']:\n",
        "          # Two phases per epoch:\n",
        "          # train: Model learns and updates weights.\n",
        "          # val: Model evaluates accuracy on unseen data, no learning.\n",
        "\n",
        "            if phase == 'train':\n",
        "                model.train()\n",
        "            else:\n",
        "                model.eval()\n",
        "\n",
        "            running_loss = 0.0\n",
        "            running_corrects = 0\n",
        "\n",
        "            for inputs, labels in dataloaders[phase]:\n",
        "                inputs = inputs.to(device)\n",
        "                labels = labels.to(device).float().unsqueeze(1)\n",
        "\n",
        "                optimizer.zero_grad()\n",
        "                # reset the gradient to zero\n",
        "                # THIS MUST NOT BE AVOIDED!\n",
        "\n",
        "                with torch.set_grad_enabled(phase == 'train'):\n",
        "                    outputs = model(inputs)\n",
        "                    # forward prop\n",
        "                    if classification_type == 1:\n",
        "                        outputs = torch.sigmoid(outputs)\n",
        "                        preds = (outputs > 0.5).float()\n",
        "                    else:\n",
        "                      _, preds = torch.max(outputs, 1)\n",
        "                    # getting the predicted class and computing loss.\n",
        "\n",
        "                    loss = criterion(outputs, labels)\n",
        "\n",
        "                    if phase == 'train':\n",
        "                        loss.backward()\n",
        "                        optimizer.step()\n",
        "                        # backpropagation and updating the parameters\n",
        "\n",
        "                running_loss += loss.item() * inputs.size(0)\n",
        "                running_corrects += torch.sum(preds == labels.data)\n",
        "\n",
        "            epoch_loss = running_loss / dataset_sizes[phase]\n",
        "            epoch_acc = running_corrects.double() / dataset_sizes[phase]\n",
        "            # calculating each epoch loss and accuracy and normalizes by total number of sample.\n",
        "\n",
        "            print(f\"{phase.capitalize()} Loss: {epoch_loss:.4f} Acc: {epoch_acc:.4f}\")\n",
        "            # Store accuracy\n",
        "            if phase == 'train':\n",
        "                train_acc_history.append(epoch_acc.item())\n",
        "            else:\n",
        "                val_acc_history.append(epoch_acc.item())\n",
        "\n",
        "    return model, train_acc_history, val_acc_history\n",
        ""
      ],
      "metadata": {
        "id": "Fb3us_BYVqcU"
      },
      "execution_count": 16,
      "outputs": []
    },
    {
      "cell_type": "code",
      "source": [
        "device = torch.device(\"cuda\" if torch.cuda.is_available() else \"cpu\")\n",
        "print(device)\n",
        "\n",
        "\n",
        "\n",
        "\n",
        "\n"
      ],
      "metadata": {
        "colab": {
          "base_uri": "https://localhost:8080/"
        },
        "id": "ugAE-joVVqen",
        "outputId": "6ccaabce-e0af-4694-8973-e8362d2085da"
      },
      "execution_count": 17,
      "outputs": [
        {
          "output_type": "stream",
          "name": "stdout",
          "text": [
            "cuda\n"
          ]
        }
      ]
    },
    {
      "cell_type": "code",
      "source": [
        "def plot_accuracies(train_acc_history, val_acc_history, num_epochs):\n",
        "    epochs = range(1, num_epochs + 1)\n",
        "    plt.figure(figsize=(10, 6))\n",
        "    plt.plot(epochs, train_acc_history, 'b-', label='Training Accuracy')\n",
        "    plt.plot(epochs, val_acc_history, 'r-', label='Validation Accuracy')\n",
        "    plt.title('Training and Validation Accuracy Over Epochs')\n",
        "    plt.xlabel('Epoch')\n",
        "    plt.ylabel('Accuracy')\n",
        "    plt.legend()\n",
        "    plt.grid(True)\n",
        "    plt.savefig('accuracy_plot.png')\n",
        "    plt.show()"
      ],
      "metadata": {
        "id": "gTsln910tcBS"
      },
      "execution_count": 21,
      "outputs": []
    },
    {
      "cell_type": "code",
      "source": [
        "model_name = 'resnet18'  # Change as needed\n",
        "if len(class_names) == 2:\n",
        "    num_classes = 1\n",
        "else:\n",
        "    num_classes = len(class_names)\n",
        "model = models.resnet18(pretrained=True)\n",
        "model.fc = nn.Linear(model.fc.in_features, num_classes)\n",
        "# model = get_model(model_name, num_classes=num_classes)\n",
        "\n",
        "\n",
        "\n",
        "trained_model, train_acc_history, val_acc_history = train_model(model, dataloaders, dataset_sizes, device, num_classes)\n",
        "plot_accuracies(train_acc_history, val_acc_history, num_epochs=10)\n"
      ],
      "metadata": {
        "colab": {
          "base_uri": "https://localhost:8080/",
          "height": 1000
        },
        "id": "LeiaWjHZVqhB",
        "outputId": "f49d9fea-36c0-43ba-eaa5-6e6a94da98f5"
      },
      "execution_count": 22,
      "outputs": [
        {
          "output_type": "stream",
          "name": "stdout",
          "text": [
            "Epoch 1/10\n",
            "--------------------\n",
            "Train Loss: 0.5935 Acc: 0.8452\n",
            "Val Loss: 0.6371 Acc: 0.7381\n",
            "Epoch 2/10\n",
            "--------------------\n",
            "Train Loss: 0.5473 Acc: 0.9345\n",
            "Val Loss: 0.7325 Acc: 0.5714\n",
            "Epoch 3/10\n",
            "--------------------\n",
            "Train Loss: 0.5464 Acc: 0.9405\n",
            "Val Loss: 0.5473 Acc: 0.8810\n",
            "Epoch 4/10\n",
            "--------------------\n",
            "Train Loss: 0.5398 Acc: 0.9524\n",
            "Val Loss: 0.7654 Acc: 0.5476\n",
            "Epoch 5/10\n",
            "--------------------\n",
            "Train Loss: 0.5454 Acc: 0.9226\n",
            "Val Loss: 0.7561 Acc: 0.5476\n",
            "Epoch 6/10\n",
            "--------------------\n",
            "Train Loss: 0.5359 Acc: 0.9583\n",
            "Val Loss: 0.6771 Acc: 0.5476\n",
            "Epoch 7/10\n",
            "--------------------\n",
            "Train Loss: 0.5325 Acc: 0.9583\n",
            "Val Loss: 0.6215 Acc: 0.6190\n",
            "Epoch 8/10\n",
            "--------------------\n",
            "Train Loss: 0.5343 Acc: 0.9583\n",
            "Val Loss: 0.5694 Acc: 0.7619\n",
            "Epoch 9/10\n",
            "--------------------\n",
            "Train Loss: 0.5412 Acc: 0.9583\n",
            "Val Loss: 0.5641 Acc: 0.8333\n",
            "Epoch 10/10\n",
            "--------------------\n",
            "Train Loss: 0.5317 Acc: 0.9643\n",
            "Val Loss: 0.5480 Acc: 0.8333\n"
          ]
        },
        {
          "output_type": "display_data",
          "data": {
            "text/plain": [
              "<Figure size 1000x600 with 1 Axes>"
            ],
            "image/png": "[encoded data removed]"
          },
          "metadata": {}
        }
      ]
    },
    {
      "cell_type": "code",
      "source": [],
      "metadata": {
        "id": "Sko1oNOeVqjZ"
      },
      "execution_count": 20,
      "outputs": []
    },
    {
      "cell_type": "code",
      "source": [],
      "metadata": {
        "id": "Xm6Z5aAbVqlz"
      },
      "execution_count": 12,
      "outputs": []
    },
    {
      "cell_type": "code",
      "source": [],
      "metadata": {
        "id": "AgnvFXjnVqpQ"
      },
      "execution_count": 12,
      "outputs": []
    }
  ]
}